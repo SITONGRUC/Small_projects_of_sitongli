{
 "cells": [
  {
   "cell_type": "code",
   "execution_count": 1,
   "id": "a4bc6eb5",
   "metadata": {
    "scrolled": true
   },
   "outputs": [
    {
     "name": "stderr",
     "output_type": "stream",
     "text": [
      "/var/folders/wl/979m696s19n36hpys3mzqq2c0000gn/T/ipykernel_12746/3688179739.py:12: DeprecationWarning: executable_path has been deprecated, please pass in a Service object\n",
      "  browser = webdriver.Chrome('/Users/sitongli/Desktop/chromedriver')\n"
     ]
    }
   ],
   "source": [
    "import os\n",
    "import pandas as pd\n",
    "import re\n",
    "import numpy as np\n",
    "import requests\n",
    "import pandas as pd\n",
    "import datetime\n",
    "import json\n",
    "from selenium import webdriver\n",
    "from selenium.webdriver.chrome.options import Options\n",
    "chrome_options = Options()\n",
    "browser = webdriver.Chrome('/Users/sitongli/Desktop/chromedriver')\n",
    "headers = {\"User-Agent\": \n",
    "           'Mozilla/5.0 (Macintosh; Intel Mac OS X 10_15_7) AppleWebKit/537.36 (KHTML, like Gecko) Chrome/115.0.0.0 Safari/537.36'}\n",
    "link = 'https://www.morganstanley.com/web/career_services/webapp/service/careerservice/resultset.json?&opportunity=sg&lang=en'\n",
    "res = requests.get(link,headers = headers)\n",
    "data = json.loads(res.text)\n",
    "pd.DataFrame(data['resultSet']).to_excel('morgan_stanley.xlsx')"
   ]
  },
  {
   "cell_type": "code",
   "execution_count": null,
   "id": "418717fb",
   "metadata": {},
   "outputs": [],
   "source": [
    "link = 'https://www.goldmansachs.com/careers/students/programs/programs-list.json'\n",
    "res = requests.get(link,headers = headers)\n",
    "data = json.loads(res.text)\n",
    "data_1 = pd.DataFrame(data['programs'])[['title','programTypeDescription','url']]\n",
    "data_1['url'] = 'https://www.goldmansachs.com'+data_1['url'] \n",
    "data_1.to_excel('G S.xlsx')"
   ]
  }
 ],
 "metadata": {
  "kernelspec": {
   "display_name": "Python 3 (ipykernel)",
   "language": "python",
   "name": "python3"
  },
  "language_info": {
   "codemirror_mode": {
    "name": "ipython",
    "version": 3
   },
   "file_extension": ".py",
   "mimetype": "text/x-python",
   "name": "python",
   "nbconvert_exporter": "python",
   "pygments_lexer": "ipython3",
   "version": "3.9.7"
  }
 },
 "nbformat": 4,
 "nbformat_minor": 5
}
