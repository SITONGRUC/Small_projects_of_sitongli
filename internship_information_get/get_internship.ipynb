{
 "cells": [
  {
   "cell_type": "code",
   "execution_count": 1,
   "id": "82dc4a0a",
   "metadata": {},
   "outputs": [],
   "source": [
    "from selenium import webdriver\n",
    "from selenium.webdriver.chrome.options import Options\n",
    "import pandas as pd\n",
    "import re\n",
    "import numpy as np\n",
    "import requests\n",
    "import pandas as pd\n",
    "import datetime"
   ]
  },
  {
   "cell_type": "code",
   "execution_count": 11,
   "id": "8b2ee4c1",
   "metadata": {},
   "outputs": [],
   "source": [
    "headers = {\"User-Agent\": 'Mozilla/5.0 (Macintosh; Intel Mac OS X 10_15_7) AppleWebKit/537.36 (KHTML, like Gecko) Chrome/113.0.0.0 Safari/537.36'}"
   ]
  },
  {
   "cell_type": "code",
   "execution_count": 4,
   "id": "deac59f4",
   "metadata": {},
   "outputs": [],
   "source": [
    "x = 5"
   ]
  },
  {
   "cell_type": "code",
   "execution_count": 72,
   "id": "f2e0bc52",
   "metadata": {},
   "outputs": [
    {
     "name": "stdout",
     "output_type": "stream",
     "text": [
      "CPU times: user 8 µs, sys: 1e+03 ns, total: 9 µs\n",
      "Wall time: 21 µs\n"
     ]
    }
   ],
   "source": [
    "%%time\n",
    "def get_data(x):\n",
    "    total_data = []\n",
    "    for i in [str(i+1) for i in range(x)]:\n",
    "        link = 'https://bbs.pku.edu.cn/v2/thread.php?bid=896&mode=topic&page='+i\n",
    "        res = requests.get(link,headers = headers)\n",
    "        total_data.append(res.text)\n",
    "    total_data = '.'.join(total_data)\n",
    "    total_list = re.findall('<!-- list item -->(.*?)<div class=\"time\">(.*?)</div>\\n',total_data,re.S)\n",
    "    result = [] \n",
    "    for i in range(len(total_list)):\n",
    "        total_list[i] = list(total_list[i])\n",
    "        sub_result = []\n",
    "        sub_result.append(re.sub('&nbsp;','',re.findall('<div class=\"title l limit\" style=\"max-width: 4.*?px;\">(.*?)</div>',total_list[i][0],re.S)[0]))\n",
    "        link = 'https://bbs.pku.edu.cn/v2/'+re.sub('amp;','',re.findall('<div class=\"list-item-topic list-item\" data-itemid=\".*?\"><a class=\"link\" href=\"(.*?)\"></a>',total_list[i][0],re.S)[0])\n",
    "        sub_result.append(link)\n",
    "        sub_result.append(total_list[i][1])\n",
    "        result.append(sub_result)\n",
    "    data=pd.DataFrame(result,columns = ['实习名称','访问链接','时间'])\n",
    "    def trans(x):\n",
    "        res = requests.get(x,headers = headers)\n",
    "        reg_exp = '1楼 \\n\\n\\n            \\n            </span>\\n\\n            <div class=\"content\">\\n              <div class=\"body file-read image-click-view\">(.*?)</div>\\n            </div>\\n            <div class=\"operations\">'\n",
    "        JD = re.findall(reg_exp,res.text,re.S)[0]\n",
    "        JD = re.sub('&nbsp;','',JD)\n",
    "        JD = re.sub('<.*?>','',JD)\n",
    "        return JD\n",
    "    data['JD'] = data['访问链接'].transform(trans)\n",
    "    data['时间'] = data['时间'].apply(lambda x : datetime.date.today().strftime('%m-%d')+' ' + x if len(x) < 11 else x)\n",
    "    return data\n"
   ]
  }
 ],
 "metadata": {
  "kernelspec": {
   "display_name": "Python 3 (ipykernel)",
   "language": "python",
   "name": "python3"
  },
  "language_info": {
   "codemirror_mode": {
    "name": "ipython",
    "version": 3
   },
   "file_extension": ".py",
   "mimetype": "text/x-python",
   "name": "python",
   "nbconvert_exporter": "python",
   "pygments_lexer": "ipython3",
   "version": "3.9.7"
  }
 },
 "nbformat": 4,
 "nbformat_minor": 5
}
